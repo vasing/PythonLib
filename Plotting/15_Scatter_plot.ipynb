{
 "cells": [
  {
   "cell_type": "code",
   "execution_count": 1,
   "id": "e9443dee-9038-4364-84e9-4236bdc78411",
   "metadata": {},
   "outputs": [
    {
     "data": {
      "image/png": "[encoded data removed]",
      "text/plain": [
       "<Figure size 432x288 with 1 Axes>"
      ]
     },
     "metadata": {
      "needs_background": "light"
     },
     "output_type": "display_data"
    }
   ],
   "source": [
    "import matplotlib.pyplot as plt\n",
    "\n",
    "# x-axis values\n",
    "x = [1,2,3,4,5,6,7,8,9,10]\n",
    "# y-axis values\n",
    "y = [2,4,5,7,6,8,9,11,12,12]\n",
    "\n",
    "# plotting points as a scatter plot\n",
    "plt.scatter(x, y, label= \"stars\", color= \"green\",\n",
    "\t\t\tmarker= \"*\", s=30)\n",
    "\n",
    "# x-axis label\n",
    "plt.xlabel('x - axis')\n",
    "# frequency label\n",
    "plt.ylabel('y - axis')\n",
    "# plot title\n",
    "plt.title('My scatter plot!')\n",
    "# showing legend\n",
    "plt.legend()\n",
    "\n",
    "# function to show the plot\n",
    "plt.show()\n"
   ]
  }
 ],
 "metadata": {
  "kernelspec": {
   "display_name": "Python 3 (ipykernel)",
   "language": "python",
   "name": "python3"
  },
  "language_info": {
   "codemirror_mode": {
    "name": "ipython",
    "version": 3
   },
   "file_extension": ".py",
   "mimetype": "text/x-python",
   "name": "python",
   "nbconvert_exporter": "python",
   "pygments_lexer": "ipython3",
   "version": "3.9.7"
  }
 },
 "nbformat": 4,
 "nbformat_minor": 5
}
