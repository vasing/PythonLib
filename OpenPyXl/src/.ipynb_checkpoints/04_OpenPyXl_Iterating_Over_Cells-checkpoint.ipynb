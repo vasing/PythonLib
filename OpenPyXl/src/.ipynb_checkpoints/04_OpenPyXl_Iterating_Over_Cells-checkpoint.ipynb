{
 "cells": [
  {
   "cell_type": "markdown",
   "id": "0c2b0a7d-7997-4b00-be52-90e7eeec9757",
   "metadata": {},
   "source": [
    "# Setup\n"
   ]
  },
  {
   "cell_type": "code",
   "execution_count": null,
   "id": "f30ff82e-3361-48f6-a2bb-085267f9c152",
   "metadata": {},
   "outputs": [],
   "source": [
    "pip install openpyxl"
   ]
  },
  {
   "cell_type": "code",
   "execution_count": 1,
   "id": "183e81c6-c2c4-47fd-b4d9-fab0849c06da",
   "metadata": {},
   "outputs": [],
   "source": [
    "import openpyxl"
   ]
  },
  {
   "cell_type": "markdown",
   "id": "2ebb2a6c-21ee-47c6-b543-72e98e275316",
   "metadata": {},
   "source": [
    "# Create Workbook\n",
    "If a workook with the same name is available, it will be replaced by an empy workook!"
   ]
  },
  {
   "cell_type": "code",
   "execution_count": 2,
   "id": "1058cdcf-d874-435e-a1a4-91d3d6cc61d3",
   "metadata": {},
   "outputs": [],
   "source": [
    "# create the workbook object\n",
    "wb = openpyxl.Workbook()\n",
    "\n",
    "# save the workbook to disc\n",
    "wb.save('03_Edit_Cells.xlsx')"
   ]
  },
  {
   "cell_type": "code",
   "execution_count": 3,
   "id": "942b2355-a1c1-42bd-81a4-81a14b766950",
   "metadata": {},
   "outputs": [],
   "source": [
    "# select first worksheet\n",
    "ws1 = wb.worksheets[0]"
   ]
  },
  {
   "cell_type": "markdown",
   "id": "f10d52ff-d61c-42de-b370-8301ef1fe616",
   "metadata": {},
   "source": [
    "# Write Cell by Name"
   ]
  },
  {
   "cell_type": "code",
   "execution_count": 4,
   "id": "1447e0e3-9bde-4153-be14-c0084ed01051",
   "metadata": {},
   "outputs": [],
   "source": [
    "ws1[\"A1\"] = 550\n",
    "ws1[\"B1\"] = \"=A1\""
   ]
  },
  {
   "cell_type": "markdown",
   "id": "fda7281e-f3c7-4dfd-831d-219b70f6c3ed",
   "metadata": {},
   "source": [
    "# Write Cell by Index"
   ]
  },
  {
   "cell_type": "code",
   "execution_count": 5,
   "id": "5cedae3f-04db-449b-b495-52c12ca5f924",
   "metadata": {},
   "outputs": [],
   "source": [
    "ws1.cell(row=2, column=1, value= 10)    # Cell A2\n",
    "ws1.cell(2, 2).value = \"=A1+A2\"         # Cell B2"
   ]
  },
  {
   "cell_type": "markdown",
   "id": "1609980a-7489-475a-8815-8ac7d1471c37",
   "metadata": {},
   "source": [
    "# Write Cell by Offset\n",
    "\"Offset\" relative to a cell"
   ]
  },
  {
   "cell_type": "code",
   "execution_count": 7,
   "id": "bdc6945f-2560-4b99-86c9-9de569886993",
   "metadata": {},
   "outputs": [],
   "source": [
    "ws1.cell(1, 2).offset(0, 1).value = \"B1_Offset\""
   ]
  },
  {
   "cell_type": "code",
   "execution_count": 10,
   "id": "bdd7355d-4adf-40ce-9284-5d8cb9f0ca43",
   "metadata": {},
   "outputs": [],
   "source": [
    "ws1[\"B2\"].offset(0, 1).value = \"B2_Offset\""
   ]
  },
  {
   "cell_type": "markdown",
   "id": "d0ef4e8a-0ea0-4422-a142-7b18c44b5d86",
   "metadata": {},
   "source": [
    "# Save Workbook"
   ]
  },
  {
   "cell_type": "code",
   "execution_count": 11,
   "id": "39e9c3b7-8af6-464e-9122-e672308816ea",
   "metadata": {},
   "outputs": [],
   "source": [
    "wb.save('03_Edit_Cells.xlsx')"
   ]
  },
  {
   "cell_type": "markdown",
   "id": "e2a6892c-1311-4ba7-929f-b74abea84637",
   "metadata": {},
   "source": [
    "# Read Cells"
   ]
  },
  {
   "cell_type": "code",
   "execution_count": 15,
   "id": "a8212c24-f59d-429d-86e9-77318765e03c",
   "metadata": {},
   "outputs": [
    {
     "name": "stdout",
     "output_type": "stream",
     "text": [
      "550\n",
      "10\n",
      "B1 Offset\n",
      "=A1\n",
      "=A1+A2\n",
      "B1 Offset\n"
     ]
    }
   ],
   "source": [
    "print(ws1[\"A1\"].value)\n",
    "print(ws1[\"A2\"].value)\n",
    "print(ws1.cell(1, 2).offset(0, 1).value)\n",
    "print(ws1[\"B1\"].value) \n",
    "print(ws1.cell(2, 2).value)\n",
    "print(ws1[\"B2\"].offset(0, 1).value)"
   ]
  },
  {
   "cell_type": "markdown",
   "id": "a6f22544-31d4-4aea-bc41-51045e447250",
   "metadata": {},
   "source": [
    "# Get Cell Name by Index"
   ]
  },
  {
   "cell_type": "code",
   "execution_count": 20,
   "id": "81078901-6595-410a-aa3a-bae874103916",
   "metadata": {},
   "outputs": [
    {
     "name": "stdout",
     "output_type": "stream",
     "text": [
      "A1\n",
      "A\n"
     ]
    }
   ],
   "source": [
    "from openpyxl.utils import get_column_letter\n",
    "\n",
    "print(str(ws1.cell(row=1, column=1).coordinate))\n",
    "print(get_column_letter(1))"
   ]
  },
  {
   "cell_type": "markdown",
   "id": "5ef52927-56eb-4274-b22f-f4705de26383",
   "metadata": {},
   "source": [
    "# Read Ranges"
   ]
  },
  {
   "cell_type": "code",
   "execution_count": 21,
   "id": "d44e6f73-e216-4d61-a370-a5b9c4695c5c",
   "metadata": {},
   "outputs": [],
   "source": [
    "# Create a range with Relative referencing\n",
    "cell_range1 = ws1['A1':'C2']\n",
    "# Create a range with Absolute referencing\n",
    "cell_range2 = ws1[get_column_letter(1)+\"1\":get_column_letter(3)+\"2\"]"
   ]
  },
  {
   "cell_type": "code",
   "execution_count": 33,
   "id": "df2c4469-afac-4f10-9f8b-bc1e4e4e83f7",
   "metadata": {},
   "outputs": [
    {
     "name": "stdout",
     "output_type": "stream",
     "text": [
      "550 =A1 B1 Offset\n",
      "10 =A1+A2 B1 Offset\n",
      "\n",
      "\n",
      "((<Cell 'Sheet'.A1>, <Cell 'Sheet'.B1>, <Cell 'Sheet'.C1>), (<Cell 'Sheet'.A2>, <Cell 'Sheet'.B2>, <Cell 'Sheet'.C2>))\n",
      "<class 'tuple'>\n"
     ]
    }
   ],
   "source": [
    "for c1, c2, c3 in cell_range1:\n",
    "    print(c1.value, c2.value, c3.value,)\n",
    "\n",
    "print(\"\\n\")\n",
    "\n",
    "print(cell_range1)\n",
    "    \n",
    "print(type(cell_range1))"
   ]
  }
 ],
 "metadata": {
  "kernelspec": {
   "display_name": "Python 3 (ipykernel)",
   "language": "python",
   "name": "python3"
  },
  "language_info": {
   "codemirror_mode": {
    "name": "ipython",
    "version": 3
   },
   "file_extension": ".py",
   "mimetype": "text/x-python",
   "name": "python",
   "nbconvert_exporter": "python",
   "pygments_lexer": "ipython3",
   "version": "3.9.7"
  }
 },
 "nbformat": 4,
 "nbformat_minor": 5
}
