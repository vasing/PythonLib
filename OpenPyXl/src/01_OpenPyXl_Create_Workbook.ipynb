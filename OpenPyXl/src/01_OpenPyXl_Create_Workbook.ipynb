{
 "cells": [
  {
   "cell_type": "markdown",
   "id": "0c2b0a7d-7997-4b00-be52-90e7eeec9757",
   "metadata": {},
   "source": [
    "# Setup\n"
   ]
  },
  {
   "cell_type": "code",
   "execution_count": 1,
   "id": "bda6d9e4-615d-4e18-848a-3df5d74e850c",
   "metadata": {},
   "outputs": [
    {
     "name": "stdout",
     "output_type": "stream",
     "text": [
      "Requirement already satisfied: openpyxl in /home/willi/anaconda3/lib/python3.9/site-packages (3.0.9)\n",
      "Requirement already satisfied: et-xmlfile in /home/willi/anaconda3/lib/python3.9/site-packages (from openpyxl) (1.1.0)\n",
      "Note: you may need to restart the kernel to use updated packages.\n"
     ]
    }
   ],
   "source": [
    "pip install openpyxl"
   ]
  },
  {
   "cell_type": "code",
   "execution_count": 2,
   "id": "183e81c6-c2c4-47fd-b4d9-fab0849c06da",
   "metadata": {},
   "outputs": [],
   "source": [
    "import openpyxl"
   ]
  },
  {
   "cell_type": "markdown",
   "id": "2ebb2a6c-21ee-47c6-b543-72e98e275316",
   "metadata": {},
   "source": [
    "# Create & Save Workbook\n",
    "If a workook with the same name is available, it will be replaced by an empy workook!"
   ]
  },
  {
   "cell_type": "code",
   "execution_count": 3,
   "id": "1058cdcf-d874-435e-a1a4-91d3d6cc61d3",
   "metadata": {},
   "outputs": [],
   "source": [
    "#Create the Workbook object\n",
    "wb = openpyxl.Workbook()\n",
    "\n",
    "# Save the workbook to disc\n",
    "wb.save('01_Hello_World.xlsx')"
   ]
  }
 ],
 "metadata": {
  "kernelspec": {
   "display_name": "Python 3 (ipykernel)",
   "language": "python",
   "name": "python3"
  },
  "language_info": {
   "codemirror_mode": {
    "name": "ipython",
    "version": 3
   },
   "file_extension": ".py",
   "mimetype": "text/x-python",
   "name": "python",
   "nbconvert_exporter": "python",
   "pygments_lexer": "ipython3",
   "version": "3.9.7"
  }
 },
 "nbformat": 4,
 "nbformat_minor": 5
}
