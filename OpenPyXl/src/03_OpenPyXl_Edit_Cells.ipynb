{
 "cells": [
  {
   "cell_type": "markdown",
   "id": "0c2b0a7d-7997-4b00-be52-90e7eeec9757",
   "metadata": {},
   "source": [
    "# Setup\n"
   ]
  },
  {
   "cell_type": "code",
   "execution_count": 1,
   "id": "f30ff82e-3361-48f6-a2bb-085267f9c152",
   "metadata": {},
   "outputs": [
    {
     "name": "stdout",
     "output_type": "stream",
     "text": [
      "Requirement already satisfied: openpyxl in c:\\users\\willi\\anaconda3\\lib\\site-packages (3.0.9)\n",
      "Requirement already satisfied: et-xmlfile in c:\\users\\willi\\anaconda3\\lib\\site-packages (from openpyxl) (1.1.0)\n",
      "Note: you may need to restart the kernel to use updated packages.\n"
     ]
    }
   ],
   "source": [
    "pip install openpyxl"
   ]
  },
  {
   "cell_type": "code",
   "execution_count": 2,
   "id": "183e81c6-c2c4-47fd-b4d9-fab0849c06da",
   "metadata": {},
   "outputs": [],
   "source": [
    "import openpyxl\n",
    "from openpyxl.utils import get_column_letter"
   ]
  },
  {
   "cell_type": "markdown",
   "id": "2ebb2a6c-21ee-47c6-b543-72e98e275316",
   "metadata": {},
   "source": [
    "# Create Workbook\n",
    "If a workook with the same name is available, it will be replaced by an empy workook!"
   ]
  },
  {
   "cell_type": "code",
   "execution_count": 3,
   "id": "1058cdcf-d874-435e-a1a4-91d3d6cc61d3",
   "metadata": {},
   "outputs": [],
   "source": [
    "# create the workbook object\n",
    "wb = openpyxl.Workbook()\n",
    "\n",
    "# save the workbook to disc\n",
    "wb.save('04_Inerating_Cells.xlsx')"
   ]
  },
  {
   "cell_type": "code",
   "execution_count": 4,
   "id": "942b2355-a1c1-42bd-81a4-81a14b766950",
   "metadata": {},
   "outputs": [],
   "source": [
    "# select first worksheet\n",
    "ws1 = wb.worksheets[0]"
   ]
  },
  {
   "cell_type": "markdown",
   "id": "f10d52ff-d61c-42de-b370-8301ef1fe616",
   "metadata": {},
   "source": [
    "# Setup Excample"
   ]
  },
  {
   "cell_type": "code",
   "execution_count": 8,
   "id": "1447e0e3-9bde-4153-be14-c0084ed01051",
   "metadata": {},
   "outputs": [],
   "source": [
    "ws1[\"A1\"] = \"a1\"\n",
    "ws1[\"A2\"] = \"a2\"\n",
    "ws1[\"A3\"] = \"a3\"\n",
    "ws1[\"B1\"] = \"b1\"\n",
    "ws1[\"B2\"] = \"b2\"\n",
    "ws1[\"B3\"] = \"b3\"\n",
    "ws1[\"C1\"] = \"c1\"\n",
    "ws1[\"C2\"] = \"c2\"\n",
    "ws1[\"C3\"] = \"c3\""
   ]
  },
  {
   "cell_type": "markdown",
   "id": "fda7281e-f3c7-4dfd-831d-219b70f6c3ed",
   "metadata": {},
   "source": [
    "# Looping Over Cells"
   ]
  },
  {
   "cell_type": "code",
   "execution_count": 13,
   "id": "a6f2edcd-2b87-483c-9466-e98d8ba9af47",
   "metadata": {},
   "outputs": [
    {
     "name": "stdout",
     "output_type": "stream",
     "text": [
      "a1 a2 a3 \n",
      "b1 b2 b3 \n",
      "c1 c2 c3 \n"
     ]
    }
   ],
   "source": [
    "for row in range(1, 4):\n",
    "    for col in range(1, 4):\n",
    "        cell = ws1.cell(row=col, column=row)\n",
    "        print(cell.value, end=\" \")\n",
    "    print()"
   ]
  }
 ],
 "metadata": {
  "kernelspec": {
   "display_name": "Python 3 (ipykernel)",
   "language": "python",
   "name": "python3"
  },
  "language_info": {
   "codemirror_mode": {
    "name": "ipython",
    "version": 3
   },
   "file_extension": ".py",
   "mimetype": "text/x-python",
   "name": "python",
   "nbconvert_exporter": "python",
   "pygments_lexer": "ipython3",
   "version": "3.9.7"
  }
 },
 "nbformat": 4,
 "nbformat_minor": 5
}
