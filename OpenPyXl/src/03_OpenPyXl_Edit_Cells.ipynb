{
 "cells": [
  {
   "cell_type": "markdown",
   "id": "0c2b0a7d-7997-4b00-be52-90e7eeec9757",
   "metadata": {},
   "source": [
    "# Setup\n"
   ]
  },
  {
   "cell_type": "code",
   "execution_count": 1,
   "id": "183e81c6-c2c4-47fd-b4d9-fab0849c06da",
   "metadata": {},
   "outputs": [],
   "source": [
    "import openpyxl"
   ]
  },
  {
   "cell_type": "markdown",
   "id": "2ebb2a6c-21ee-47c6-b543-72e98e275316",
   "metadata": {},
   "source": [
    "# Create Workbook\n",
    "If a workook with the same name is available, it will be replaced by an empy workook!"
   ]
  },
  {
   "cell_type": "code",
   "execution_count": 2,
   "id": "1058cdcf-d874-435e-a1a4-91d3d6cc61d3",
   "metadata": {},
   "outputs": [],
   "source": [
    "# create the workbook object\n",
    "wb = openpyxl.Workbook()\n",
    "\n",
    "# save the workbook to disc\n",
    "wb.save('03_Edit_Cells.xlsx')"
   ]
  },
  {
   "cell_type": "code",
   "execution_count": 3,
   "id": "942b2355-a1c1-42bd-81a4-81a14b766950",
   "metadata": {},
   "outputs": [],
   "source": [
    "# select first worksheet\n",
    "ws1 = wb.worksheets[0]"
   ]
  },
  {
   "cell_type": "markdown",
   "id": "f10d52ff-d61c-42de-b370-8301ef1fe616",
   "metadata": {},
   "source": [
    "# Write Cell by Name"
   ]
  },
  {
   "cell_type": "code",
   "execution_count": 8,
   "id": "1447e0e3-9bde-4153-be14-c0084ed01051",
   "metadata": {},
   "outputs": [],
   "source": [
    "ws1[\"A1\"] = 550\n",
    "ws1[\"B1\"] = \"=A1\""
   ]
  },
  {
   "cell_type": "markdown",
   "id": "fda7281e-f3c7-4dfd-831d-219b70f6c3ed",
   "metadata": {},
   "source": [
    "# Write Cell by Index"
   ]
  },
  {
   "cell_type": "code",
   "execution_count": 11,
   "id": "5cedae3f-04db-449b-b495-52c12ca5f924",
   "metadata": {},
   "outputs": [],
   "source": [
    "ws1.cell(row=2, column=1, value= 10)    # Cell A2\n",
    "ws1.cell(2, 2).value = \"=A1+A2\"         # Cell B2"
   ]
  },
  {
   "cell_type": "markdown",
   "id": "d0ef4e8a-0ea0-4422-a142-7b18c44b5d86",
   "metadata": {},
   "source": [
    "# Save Workbook"
   ]
  },
  {
   "cell_type": "code",
   "execution_count": 12,
   "id": "39e9c3b7-8af6-464e-9122-e672308816ea",
   "metadata": {},
   "outputs": [],
   "source": [
    "wb.save('03_Edit_Cells.xlsx')"
   ]
  },
  {
   "cell_type": "markdown",
   "id": "a6f22544-31d4-4aea-bc41-51045e447250",
   "metadata": {},
   "source": [
    "# Get Cell Name by Index"
   ]
  },
  {
   "cell_type": "code",
   "execution_count": 14,
   "id": "81078901-6595-410a-aa3a-bae874103916",
   "metadata": {},
   "outputs": [
    {
     "name": "stdout",
     "output_type": "stream",
     "text": [
      "A1\n"
     ]
    }
   ],
   "source": [
    "print(str(ws1.cell(row=1, column=1).coordinate))"
   ]
  }
 ],
 "metadata": {
  "kernelspec": {
   "display_name": "Python 3 (ipykernel)",
   "language": "python",
   "name": "python3"
  },
  "language_info": {
   "codemirror_mode": {
    "name": "ipython",
    "version": 3
   },
   "file_extension": ".py",
   "mimetype": "text/x-python",
   "name": "python",
   "nbconvert_exporter": "python",
   "pygments_lexer": "ipython3",
   "version": "3.9.7"
  }
 },
 "nbformat": 4,
 "nbformat_minor": 5
}
