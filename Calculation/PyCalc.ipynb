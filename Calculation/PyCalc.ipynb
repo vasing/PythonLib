{
 "cells": [
  {
   "cell_type": "markdown",
   "id": "4557c161",
   "metadata": {},
   "source": [
    "## Mittelwert\n",
    "1. Variante: ohne externe Module\n",
    "2. Variante: mit ```from statistics import mean```"
   ]
  },
  {
   "cell_type": "code",
   "execution_count": null,
   "id": "f0753f0c",
   "metadata": {},
   "outputs": [
    {
     "name": "stdout",
     "output_type": "stream",
     "text": [
      "26.375\n"
     ]
    }
   ],
   "source": [
    "numbers = [19, 22, 34, 26, 32, 30, 24, 24]\n",
    "\n",
    "#arithmetischer Mittelwert\n",
    "def mean(dataset):\n",
    "    return sum(dataset) / len(dataset)\n",
    "\n",
    "print(mean(numbers))"
   ]
  },
  {
   "cell_type": "code",
   "execution_count": null,
   "id": "55028da8",
   "metadata": {},
   "outputs": [
    {
     "name": "stdout",
     "output_type": "stream",
     "text": [
      "26.375\n"
     ]
    }
   ],
   "source": [
    "#arithmetischer Mittelwert\n",
    "from statistics import mean\n",
    "\n",
    "numbers = [19, 22, 34, 26, 32, 30, 24, 24]\n",
    "\n",
    "print(mean(numbers))"
   ]
  },
  {
   "cell_type": "markdown",
   "id": "ccb7d429",
   "metadata": {},
   "source": [
    "## Median\n",
    "1. Variante: mit ```from statistics import median```"
   ]
  },
  {
   "cell_type": "code",
   "execution_count": 2,
   "id": "4cbd93e0",
   "metadata": {},
   "outputs": [
    {
     "name": "stdout",
     "output_type": "stream",
     "text": [
      "25.0\n"
     ]
    }
   ],
   "source": [
    "from statistics import median\n",
    "\n",
    "numbers = [19, 22, 34, 26, 32, 30, 24, 24]\n",
    "\n",
    "print(median(numbers))"
   ]
  },
  {
   "cell_type": "markdown",
   "id": "82a1e49b",
   "metadata": {},
   "source": [
    "## Modus\n",
    "\n",
    "(häufigser Wert)"
   ]
  },
  {
   "cell_type": "code",
   "execution_count": 3,
   "id": "c196deb1",
   "metadata": {},
   "outputs": [
    {
     "name": "stdout",
     "output_type": "stream",
     "text": [
      "10\n",
      "nike\n"
     ]
    }
   ],
   "source": [
    "from statistics import mode\n",
    "\n",
    "punkte_pro_spiel = [3, 15, 23, 42, 30, 10, 10, 12]\n",
    "sponsorship = ['nike', 'adidas', 'nike', 'jordan',\n",
    "               'jordan', 'rebook', 'under-armour', 'adidas']\n",
    "\n",
    "print(mode(punkte_pro_spiel))\n",
    "print(mode(sponsorship))"
   ]
  }
 ],
 "metadata": {
  "kernelspec": {
   "display_name": "base",
   "language": "python",
   "name": "python3"
  },
  "language_info": {
   "codemirror_mode": {
    "name": "ipython",
    "version": 3
   },
   "file_extension": ".py",
   "mimetype": "text/x-python",
   "name": "python",
   "nbconvert_exporter": "python",
   "pygments_lexer": "ipython3",
   "version": "3.12.7"
  }
 },
 "nbformat": 4,
 "nbformat_minor": 5
}
