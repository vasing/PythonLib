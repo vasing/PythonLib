{
 "cells": [
  {
   "cell_type": "markdown",
   "id": "f74087b4-557c-4770-8613-9f9b7b0a314d",
   "metadata": {},
   "source": [
    "## Tutorial\n",
    "https://realpython.com/python-send-email/"
   ]
  },
  {
   "cell_type": "markdown",
   "id": "b740a4dd-4728-4115-b62c-91d42c7bfbee",
   "metadata": {},
   "source": [
    "## Using SMTP_SSL()"
   ]
  },
  {
   "cell_type": "code",
   "execution_count": 12,
   "id": "b5bde59f-68bd-444f-afca-7a1eda86a85e",
   "metadata": {},
   "outputs": [
    {
     "name": "stdin",
     "output_type": "stream",
     "text": [
      "Type your password and press enter:  KanxKTYTT0nnlYAWjEkN\n"
     ]
    }
   ],
   "source": [
    "import smtplib, ssl\n",
    "import secure\n",
    "\n",
    "port = 465  # For SSL\n",
    "smtp_server = \"smtp.mail.de\"\n",
    "sender_email = secure.sender  # config in secure.py\n",
    "receiver_email = secure.receiwer  # config in secure.py# \n",
    "password = secure.sender_pw  # config in secure.py\n",
    "#password = input(\"Type your password and press enter: \")\n",
    "message = \"\"\"\\\n",
    "Subject: Hi there\n",
    "\n",
    "This message is sent from Python.\"\"\"\n",
    "\n",
    "context = ssl.create_default_context()\n",
    "with smtplib.SMTP_SSL(smtp_server, port, context=context) as server:\n",
    "    server.login(sender_email, password)\n",
    "    server.sendmail(sender_email, receiver_email, message)\n"
   ]
  },
  {
   "cell_type": "markdown",
   "id": "013c19a1-1b61-4185-a433-652b876f8e59",
   "metadata": {},
   "source": [
    "## Using .starttls()"
   ]
  },
  {
   "cell_type": "code",
   "execution_count": 2,
   "id": "f29b0d79-9cd4-4001-bac4-44353be70837",
   "metadata": {},
   "outputs": [
    {
     "name": "stdin",
     "output_type": "stream",
     "text": [
      "Type your password and press enter: KanxKTYTT0nnlYAWjEkN\n"
     ]
    }
   ],
   "source": [
    "import smtplib, ssl\n",
    "import secure\n",
    "\n",
    "port = 587  # For starttls\n",
    "sender_email = secure.sender  # config in secure.py\n",
    "receiver_email = secure.receiwer  # config in secure.py\n",
    "password = secure.sender_pw  # config in secure.py\n",
    "#password = input(\"Type your password and press enter: \")\n",
    "message = \"\"\"\\\n",
    "Subject: Hi there\n",
    "\n",
    "This message is sent from Python.\"\"\"\n",
    "\n",
    "context = ssl.create_default_context()\n",
    "with smtplib.SMTP(smtp_server, port) as server:\n",
    "    server.ehlo()  # Can be omitted\n",
    "    server.starttls(context=context)\n",
    "    server.ehlo()  # Can be omitted\n",
    "    server.login(sender_email, password)\n",
    "    server.sendmail(sender_email, receiver_email, message)"
   ]
  }
 ],
 "metadata": {
  "kernelspec": {
   "display_name": "Python 3 (ipykernel)",
   "language": "python",
   "name": "python3"
  },
  "language_info": {
   "codemirror_mode": {
    "name": "ipython",
    "version": 3
   },
   "file_extension": ".py",
   "mimetype": "text/x-python",
   "name": "python",
   "nbconvert_exporter": "python",
   "pygments_lexer": "ipython3",
   "version": "3.9.13"
  }
 },
 "nbformat": 4,
 "nbformat_minor": 5
}
