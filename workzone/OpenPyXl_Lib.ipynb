{
 "cells": [
  {
   "cell_type": "markdown",
   "id": "0c2b0a7d-7997-4b00-be52-90e7eeec9757",
   "metadata": {},
   "source": [
    "# Setup\n"
   ]
  },
  {
   "cell_type": "code",
   "execution_count": 1,
   "id": "adf692a5-68b8-4cfe-8b76-e294b82954ce",
   "metadata": {},
   "outputs": [
    {
     "name": "stdout",
     "output_type": "stream",
     "text": [
      "Requirement already satisfied: openpyxl in /home/willi/anaconda3/lib/python3.9/site-packages (3.0.9)\n",
      "Requirement already satisfied: et-xmlfile in /home/willi/anaconda3/lib/python3.9/site-packages (from openpyxl) (1.1.0)\n",
      "Note: you may need to restart the kernel to use updated packages.\n"
     ]
    }
   ],
   "source": [
    "pip install openpyxl"
   ]
  },
  {
   "cell_type": "code",
   "execution_count": 1,
   "id": "0e3b2936-6bb3-45f1-b868-2a5fdd9abe74",
   "metadata": {},
   "outputs": [],
   "source": [
    "import openpyxl"
   ]
  },
  {
   "cell_type": "code",
   "execution_count": 1,
   "id": "183e81c6-c2c4-47fd-b4d9-fab0849c06da",
   "metadata": {},
   "outputs": [],
   "source": [
    "from openpyxl import Workbook\n",
    "# --> did not worked so well"
   ]
  },
  {
   "cell_type": "markdown",
   "id": "4e2599e7-552c-4054-9860-94bdc2116d06",
   "metadata": {},
   "source": [
    "# Opening Workbook\n",
    "OWB = open workbook"
   ]
  },
  {
   "cell_type": "code",
   "execution_count": 2,
   "id": "55d0cf1f-6ad4-4026-9a66-45ed03807eff",
   "metadata": {},
   "outputs": [],
   "source": [
    "#Open the workbook\n",
    "OWB = openpyxl.load_workbook(\"2.1_Hello_world.xlsx\")"
   ]
  },
  {
   "cell_type": "markdown",
   "id": "7cbb0e5d-065c-41ce-8b2b-fed994ae5593",
   "metadata": {},
   "source": [
    "# Editing Sheets"
   ]
  },
  {
   "cell_type": "code",
   "execution_count": 15,
   "id": "4aef78c7-ea5b-4640-833f-91dacf5d6409",
   "metadata": {},
   "outputs": [
    {
     "name": "stdout",
     "output_type": "stream",
     "text": [
      "Sheet\n"
     ]
    }
   ],
   "source": [
    "#Check what sheets are in it\n",
    "for sheet in OWB:\n",
    "    print(sheet.title)"
   ]
  },
  {
   "cell_type": "code",
   "execution_count": 10,
   "id": "0a8557cd-d88f-4466-a971-e855dd5b0d81",
   "metadata": {},
   "outputs": [
    {
     "name": "stdout",
     "output_type": "stream",
     "text": [
      "Sheet has the index 0\n",
      "--------------------\n"
     ]
    }
   ],
   "source": [
    "# Check what indices the sheets have\n",
    "for sheet in OWB:\n",
    "    print(\"{} has the index {}\".format(sheet.title, OWB.index(sheet)))\n",
    "print(\"-\"*20)"
   ]
  },
  {
   "cell_type": "code",
   "execution_count": 16,
   "id": "367e7b47-6845-4077-8cd3-6d485e093810",
   "metadata": {},
   "outputs": [],
   "source": [
    "# Select Sheet\n",
    "ws0 = OWB.worksheets[0]"
   ]
  },
  {
   "cell_type": "code",
   "execution_count": 19,
   "id": "dc1be073-83bb-4bad-a5ec-89623b655240",
   "metadata": {},
   "outputs": [],
   "source": [
    "# Change the name of the sheet\n",
    "ws0.title = \"Sheet 1\""
   ]
  },
  {
   "cell_type": "code",
   "execution_count": 20,
   "id": "ee3a8289-fb23-42a7-9c92-bdd5fb8856b2",
   "metadata": {},
   "outputs": [
    {
     "name": "stdout",
     "output_type": "stream",
     "text": [
      "Sheet 1\n"
     ]
    }
   ],
   "source": [
    "#Check what sheets are in it\n",
    "for sheet in OWB:\n",
    "    print(sheet.title)"
   ]
  },
  {
   "cell_type": "markdown",
   "id": "7cf2d994-2a06-40c1-ab02-34f48d24a55e",
   "metadata": {},
   "source": [
    "## Create Sheet"
   ]
  },
  {
   "cell_type": "code",
   "execution_count": 5,
   "id": "4877f764-3c5f-48ff-ad2c-a435384b5dd0",
   "metadata": {},
   "outputs": [
    {
     "data": {
      "text/plain": [
       "<Worksheet \"Sheet nr 2\">"
      ]
     },
     "execution_count": 5,
     "metadata": {},
     "output_type": "execute_result"
    }
   ],
   "source": [
    "#Create sheet\n",
    "wb2.create_sheet(\"Sheet 0\", 0) # insert at first position"
   ]
  },
  {
   "cell_type": "code",
   "execution_count": 8,
   "id": "9a2c74c5-8dd7-45d7-927c-c7402b4a05f8",
   "metadata": {},
   "outputs": [],
   "source": [
    "wb2.save('2.2_Editing_Sheets.xlsx')"
   ]
  },
  {
   "cell_type": "code",
   "execution_count": 9,
   "id": "03fdea85-bcb2-41d2-9dab-90573088deb9",
   "metadata": {},
   "outputs": [
    {
     "name": "stdout",
     "output_type": "stream",
     "text": [
      "Sheet\n",
      "Sheet nr 2\n"
     ]
    }
   ],
   "source": [
    "#Check what sheets are in it\n",
    "for sheet in wb2:\n",
    "    print(sheet.title)"
   ]
  },
  {
   "cell_type": "markdown",
   "id": "3a7d74e0-a7da-4fc1-bfa7-fda4891b9c44",
   "metadata": {},
   "source": [
    "## Delete Sheet"
   ]
  },
  {
   "cell_type": "code",
   "execution_count": 11,
   "id": "322afe63-728e-4cb4-9b60-4078dce93850",
   "metadata": {},
   "outputs": [],
   "source": [
    "    # Delete sheet by Name\n",
    "    wb2.remove(wb2[\"Sheet\"])"
   ]
  },
  {
   "cell_type": "code",
   "execution_count": 12,
   "id": "9a6e65a0-b3e2-4886-a7e2-5bb09b590d6f",
   "metadata": {},
   "outputs": [
    {
     "name": "stdout",
     "output_type": "stream",
     "text": [
      "Sheet nr 2\n"
     ]
    }
   ],
   "source": [
    "#Check what sheets are in it\n",
    "for sheet in wb:\n",
    "    print(sheet.title)"
   ]
  }
 ],
 "metadata": {
  "kernelspec": {
   "display_name": "Python 3 (ipykernel)",
   "language": "python",
   "name": "python3"
  },
  "language_info": {
   "codemirror_mode": {
    "name": "ipython",
    "version": 3
   },
   "file_extension": ".py",
   "mimetype": "text/x-python",
   "name": "python",
   "nbconvert_exporter": "python",
   "pygments_lexer": "ipython3",
   "version": "3.9.7"
  }
 },
 "nbformat": 4,
 "nbformat_minor": 5
}
