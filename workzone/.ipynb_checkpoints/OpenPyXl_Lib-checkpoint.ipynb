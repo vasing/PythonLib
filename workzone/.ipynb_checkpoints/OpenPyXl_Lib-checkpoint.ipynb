{
 "cells": [
  {
   "cell_type": "markdown",
   "id": "0c2b0a7d-7997-4b00-be52-90e7eeec9757",
   "metadata": {},
   "source": [
    "# Setup\n"
   ]
  },
  {
   "cell_type": "code",
   "execution_count": 1,
   "id": "adf692a5-68b8-4cfe-8b76-e294b82954ce",
   "metadata": {},
   "outputs": [
    {
     "name": "stdout",
     "output_type": "stream",
     "text": [
      "Requirement already satisfied: openpyxl in /home/willi/anaconda3/lib/python3.9/site-packages (3.0.9)\n",
      "Requirement already satisfied: et-xmlfile in /home/willi/anaconda3/lib/python3.9/site-packages (from openpyxl) (1.1.0)\n",
      "Note: you may need to restart the kernel to use updated packages.\n"
     ]
    }
   ],
   "source": [
    "        pip install openpyxl"
   ]
  },
  {
   "cell_type": "code",
   "execution_count": 1,
   "id": "0e3b2936-6bb3-45f1-b868-2a5fdd9abe74",
   "metadata": {},
   "outputs": [],
   "source": [
    "import openpyxl"
   ]
  },
  {
   "cell_type": "code",
   "execution_count": 1,
   "id": "183e81c6-c2c4-47fd-b4d9-fab0849c06da",
   "metadata": {},
   "outputs": [],
   "source": [
    "# from openpyxl import Workbook\n",
    "# --> did not worked so well"
   ]
  },
  {
   "cell_type": "markdown",
   "id": "2ebb2a6c-21ee-47c6-b543-72e98e275316",
   "metadata": {},
   "source": [
    "# Create Workbook"
   ]
  },
  {
   "cell_type": "code",
   "execution_count": 4,
   "id": "1058cdcf-d874-435e-a1a4-91d3d6cc61d3",
   "metadata": {},
   "outputs": [],
   "source": [
    "#Create the Workbook object\n",
    "wb = openpyxl.Workbook()\n",
    "\n",
    "# Save the workbook to disc\n",
    "wb.save('2.2_Hello_world.xlsx')"
   ]
  },
  {
   "cell_type": "markdown",
   "id": "4e2599e7-552c-4054-9860-94bdc2116d06",
   "metadata": {},
   "source": [
    "# Opening Workbook"
   ]
  },
  {
   "cell_type": "code",
   "execution_count": 2,
   "id": "55d0cf1f-6ad4-4026-9a66-45ed03807eff",
   "metadata": {},
   "outputs": [],
   "source": [
    "#Open the workbook\n",
    "wb = openpyxl.load_workbook(\"2.1_Hello_world.xlsx\")"
   ]
  },
  {
   "cell_type": "code",
   "execution_count": 3,
   "id": "0a8557cd-d88f-4466-a971-e855dd5b0d81",
   "metadata": {},
   "outputs": [
    {
     "name": "stdout",
     "output_type": "stream",
     "text": [
      "Sheet\n"
     ]
    }
   ],
   "source": [
    "#Check what sheets are in it\n",
    "for sheet in wb:\n",
    "    print(sheet.title)"
   ]
  }
 ],
 "metadata": {
  "kernelspec": {
   "display_name": "Python 3 (ipykernel)",
   "language": "python",
   "name": "python3"
  },
  "language_info": {
   "codemirror_mode": {
    "name": "ipython",
    "version": 3
   },
   "file_extension": ".py",
   "mimetype": "text/x-python",
   "name": "python",
   "nbconvert_exporter": "python",
   "pygments_lexer": "ipython3",
   "version": "3.9.7"
  }
 },
 "nbformat": 4,
 "nbformat_minor": 5
}
