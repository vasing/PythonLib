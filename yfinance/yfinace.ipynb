{
 "cells": [
  {
   "cell_type": "markdown",
   "id": "a8b030f5",
   "metadata": {},
   "source": [
    "# yfinace "
   ]
  },
  {
   "cell_type": "code",
   "execution_count": 1,
   "id": "b210bc24",
   "metadata": {},
   "outputs": [],
   "source": [
    "import yfinance as yf\n",
    "from datetime import datetime, timedelta\n",
    "import pandas as pd"
   ]
  },
  {
   "cell_type": "code",
   "execution_count": null,
   "id": "816941ab",
   "metadata": {},
   "outputs": [],
   "source": [
    "# Define the ticker\n",
    "VIX = yf.Ticker(\"AAPL\")\n",
    "\n",
    "# Get today's date and convert it to a string with YYYY-MM-DD format\n",
    "end_date = datetime.now().strftime('%Y-%m-%d')\n",
    "\n",
    "# Check in a ticker exists\n",
    "def check_ticker_exists(ticker_symbol):\n",
    "    ticker = yf.Ticker(ticker_symbol)\n",
    "    info = ticker.info\n",
    "    if info is None or len(info) == 0:\n",
    "        return False\n",
    "    else:\n",
    "        return True"
   ]
  },
  {
   "cell_type": "markdown",
   "id": "15ee9aa4",
   "metadata": {},
   "source": [
    "todo\n",
    "\n",
    "- [ ] Funktion, die prüft, ob ein Ticker existiert."
   ]
  },
  {
   "cell_type": "code",
   "execution_count": null,
   "id": "8fe35b92",
   "metadata": {},
   "outputs": [],
   "source": [
    "check_ticker_exists(\"Agfe\")"
   ]
  }
 ],
 "metadata": {
  "kernelspec": {
   "display_name": "base",
   "language": "python",
   "name": "python3"
  },
  "language_info": {
   "codemirror_mode": {
    "name": "ipython",
    "version": 3
   },
   "file_extension": ".py",
   "mimetype": "text/x-python",
   "name": "python",
   "nbconvert_exporter": "python",
   "pygments_lexer": "ipython3",
   "version": "3.12.7"
  }
 },
 "nbformat": 4,
 "nbformat_minor": 5
}
